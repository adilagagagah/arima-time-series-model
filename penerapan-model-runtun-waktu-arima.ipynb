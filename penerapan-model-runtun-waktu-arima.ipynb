{
 "cells": [
  {
   "cell_type": "markdown",
   "id": "6d9e6d88",
   "metadata": {
    "papermill": {
     "duration": 0.00257,
     "end_time": "2024-02-01T16:55:46.024795",
     "exception": false,
     "start_time": "2024-02-01T16:55:46.022225",
     "status": "completed"
    },
    "tags": []
   },
   "source": [
    "# Import Packages"
   ]
  },
  {
   "cell_type": "code",
   "execution_count": 1,
   "id": "76ff76a7",
   "metadata": {
    "_cell_guid": "b1076dfc-b9ad-4769-8c92-a6c4dae69d19",
    "_uuid": "8f2839f25d086af736a60e9eeb907d3b93b6e0e5",
    "execution": {
     "iopub.execute_input": "2024-02-01T16:55:46.030945Z",
     "iopub.status.busy": "2024-02-01T16:55:46.030498Z",
     "iopub.status.idle": "2024-02-01T16:55:47.099306Z",
     "shell.execute_reply": "2024-02-01T16:55:47.098007Z"
    },
    "papermill": {
     "duration": 1.075108,
     "end_time": "2024-02-01T16:55:47.102014",
     "exception": false,
     "start_time": "2024-02-01T16:55:46.026906",
     "status": "completed"
    },
    "tags": []
   },
   "outputs": [],
   "source": [
    "import numpy as np\n",
    "import pandas as pd"
   ]
  }
 ],
 "metadata": {
  "kaggle": {
   "accelerator": "none",
   "dataSources": [],
   "dockerImageVersionId": 30646,
   "isGpuEnabled": false,
   "isInternetEnabled": true,
   "language": "python",
   "sourceType": "notebook"
  },
  "kernelspec": {
   "display_name": "Python 3",
   "language": "python",
   "name": "python3"
  },
  "language_info": {
   "codemirror_mode": {
    "name": "ipython",
    "version": 3
   },
   "file_extension": ".py",
   "mimetype": "text/x-python",
   "name": "python",
   "nbconvert_exporter": "python",
   "pygments_lexer": "ipython3",
   "version": "3.10.13"
  },
  "papermill": {
   "default_parameters": {},
   "duration": 4.727574,
   "end_time": "2024-02-01T16:55:47.624686",
   "environment_variables": {},
   "exception": null,
   "input_path": "__notebook__.ipynb",
   "output_path": "__notebook__.ipynb",
   "parameters": {},
   "start_time": "2024-02-01T16:55:42.897112",
   "version": "2.5.0"
  }
 },
 "nbformat": 4,
 "nbformat_minor": 5
}
